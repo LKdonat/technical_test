{
 "cells": [
  {
   "cell_type": "markdown",
   "id": "0d2973b4",
   "metadata": {},
   "source": [
    "# **ETL pipeline**\n",
    "\n",
    "- The goal here is to retrieve the raw data and proceed to feature engineering\n",
    "- At the end of this pipeline we will have 2 tables : the instances (that contain our explanatory variables) and the labels (that contains the target variable)\n",
    "- We split the 2 because in real life we have 2 phases : \n",
    "    - Training phase : we have the instances & labels -> feature engineering -> pre-processing (imputation, encoder fit + transform) -> model training\n",
    "    - Inference phase : we don't have labels when using the model in production -> feature engineering -> pre-processing (imputation, fitted encoder transform) -> trained model prediction\n",
    "- This pipeline contains the feature engineering part because the model training & inference should start directly with pre-processing\n",
    "- The ID variable is the policy_number"
   ]
  },
  {
   "cell_type": "code",
   "execution_count": 1,
   "id": "6396d5f5",
   "metadata": {},
   "outputs": [],
   "source": [
    "import sys\n",
    "from pathlib import Path\n",
    "import logging \n",
    "\n",
    "LOGGER = logging.getLogger(__name__)\n",
    "sys.path.append(str(Path(\"../src\").resolve()))\n",
    "\n",
    "logging.basicConfig(format='%(asctime)s : %(levelname)s : %(message)s', level=logging.INFO)"
   ]
  },
  {
   "cell_type": "markdown",
   "id": "bd9965e2",
   "metadata": {},
   "source": [
    "## **Parameters**\n",
    "\n",
    "`unusable_columns_to_remove` : justifications on why we are removing these columns\n",
    "- `insured_sex` : in France it is prohibited to use gender data in most cases as these are very sensitive personal data (GDPR)\n",
    "- `insured_relationship` : personnal data related to gender \n",
    "- `incident_location` : \n",
    "    - too granular, we already have the state & city, \n",
    "    - could have been interesting to calculate the distance between incident location and the home adress\n",
    "    - we would need the latitude/longitude of these 2 adresses \n",
    "- `auto_model` : \n",
    "    - too granular, the auto brand already tells the information about the type (premium, cheap,...) of the vehicle\n",
    "    - it would have been interesting to have the car price "
   ]
  },
  {
   "cell_type": "code",
   "execution_count": 2,
   "id": "7779aba6",
   "metadata": {},
   "outputs": [],
   "source": [
    "unusable_columns_to_remove = [\n",
    "    \"insured_sex\", \n",
    "    \"insured_relationship\", \n",
    "    \"incident_location\",  \n",
    "    \"auto_model\",\n",
    "    \"_c39\"\n",
    "]\n",
    "\n",
    "date_columns_list = [\"policy_bind_date\", \"incident_date\"]"
   ]
  },
  {
   "cell_type": "markdown",
   "id": "31038528",
   "metadata": {},
   "source": [
    "## **Inputs loading**"
   ]
  },
  {
   "cell_type": "code",
   "execution_count": 3,
   "id": "6987e4f2",
   "metadata": {},
   "outputs": [],
   "source": [
    "import polars as pl \n",
    "from pathlib import Path\n",
    "\n",
    "insurance_claims = pl.read_csv(source=(Path().cwd().parent / \"data/01_raw/insurance_claims.csv\").as_posix(), separator=\",\")"
   ]
  },
  {
   "cell_type": "markdown",
   "id": "a2355dd4",
   "metadata": {},
   "source": [
    "## **Execution**"
   ]
  },
  {
   "cell_type": "code",
   "execution_count": 4,
   "id": "520442b2",
   "metadata": {},
   "outputs": [
    {
     "name": "stderr",
     "output_type": "stream",
     "text": [
      "2025-07-11 00:11:40,341 : INFO : -------------------- Filtering unusable columns --------------------\n",
      "2025-07-11 00:11:40,343 : INFO : data.shape = (1000, 40) : data['policy_number'].n_unique() = 1000\n",
      "2025-07-11 00:11:40,345 : INFO : filtered_data.shape = (1000, 35) : filtered_data['policy_number'].n_unique() = 1000\n",
      "2025-07-11 00:11:40,345 : INFO : -------------------- Converting date as str columns to date columns --------------------\n",
      "2025-07-11 00:11:40,353 : INFO : -------------------- Splitting the CSL column --------------------\n",
      "2025-07-11 00:11:40,356 : INFO : data.shape = (1000, 37) : data['policy_number'].n_unique() = 1000\n",
      "2025-07-11 00:11:40,358 : INFO : -------------------- Creating timedelta between incident_date and bind_date --------------------\n",
      "2025-07-11 00:11:40,361 : INFO : data.shape = (1000, 37) : data['policy_number'].n_unique() = 1000\n",
      "2025-07-11 00:11:40,362 : INFO : -------------------- Splitting instances & labels --------------------\n",
      "2025-07-11 00:11:40,364 : INFO : data.shape = (1000, 37)\n",
      "2025-07-11 00:11:40,364 : INFO : labels.shape = (1000, 2)\n",
      "2025-07-11 00:11:40,366 : INFO : instances.shape = (1000, 36)\n",
      "2025-07-11 00:11:40,368 : INFO : Saving the final table...\n"
     ]
    }
   ],
   "source": [
    "import functions.etl.features_creation_functions as etl_features_creation\n",
    "\n",
    "LOGGER.info(\"-------------------- Filtering unusable columns --------------------\")\n",
    "insurance_claims_without_unusable_columns = etl_features_creation.filter_unusable_columns(\n",
    "    data = insurance_claims, \n",
    "    columns_to_remove=unusable_columns_to_remove\n",
    ")\n",
    "LOGGER.info(\"-------------------- Converting date as str columns to date columns --------------------\")\n",
    "insurance_claims_with_datetime_columns = etl_features_creation.convert_dates_str_to_datetime(\n",
    "    data = insurance_claims_without_unusable_columns, \n",
    "    date_columns_list = date_columns_list\n",
    ")\n",
    "LOGGER.info(\"-------------------- Splitting the CSL column --------------------\")\n",
    "insurance_claims_with_split_limits = etl_features_creation.split_csl_column(data=insurance_claims_with_datetime_columns)\n",
    "LOGGER.info(\"-------------------- Creating timedelta between incident_date and bind_date --------------------\")\n",
    "insurance_claims_with_incident_bind_date_timedelta = etl_features_creation.calculate_timedelta_between_incident_date_and_bind_date(data=insurance_claims_with_split_limits)\n",
    "LOGGER.info(\"-------------------- Splitting instances & labels --------------------\")\n",
    "instances,labels = etl_features_creation.split_instances_labels(\n",
    "    data=insurance_claims_with_incident_bind_date_timedelta, \n",
    "    target_col=\"fraud_reported\", \n",
    "    id_col=\"policy_number\"\n",
    ")\n",
    "LOGGER.info(\"Saving the final table...\")\n",
    "target_directory = (Path().cwd().parent / \"data/02_intermediate/\")\n",
    "target_directory.mkdir(parents=True, exist_ok=True)\n",
    "instances.write_parquet((target_directory / \"instances.parquet\").as_posix())\n",
    "labels.write_parquet((target_directory / \"labels.parquet\").as_posix())"
   ]
  },
  {
   "cell_type": "code",
   "execution_count": 5,
   "id": "0464cb5c",
   "metadata": {},
   "outputs": [
    {
     "data": {
      "text/html": [
       "<div><style>\n",
       ".dataframe > thead > tr,\n",
       ".dataframe > tbody > tr {\n",
       "  text-align: right;\n",
       "  white-space: pre-wrap;\n",
       "}\n",
       "</style>\n",
       "<small>shape: (2, 36)</small><table border=\"1\" class=\"dataframe\"><thead><tr><th>months_as_customer</th><th>age</th><th>policy_number</th><th>policy_bind_date</th><th>policy_state</th><th>policy_deductable</th><th>policy_annual_premium</th><th>umbrella_limit</th><th>insured_zip</th><th>insured_education_level</th><th>insured_occupation</th><th>insured_hobbies</th><th>capital-gains</th><th>capital-loss</th><th>incident_date</th><th>incident_type</th><th>collision_type</th><th>incident_severity</th><th>authorities_contacted</th><th>incident_state</th><th>incident_city</th><th>incident_hour_of_the_day</th><th>number_of_vehicles_involved</th><th>property_damage</th><th>bodily_injuries</th><th>witnesses</th><th>police_report_available</th><th>total_claim_amount</th><th>injury_claim</th><th>property_claim</th><th>vehicle_claim</th><th>auto_make</th><th>auto_year</th><th>per_person_limit</th><th>per_accident_limit</th><th>nb_years_between_incident_and_bind_date</th></tr><tr><td>i64</td><td>i64</td><td>i64</td><td>date</td><td>str</td><td>i64</td><td>f64</td><td>i64</td><td>i64</td><td>str</td><td>str</td><td>str</td><td>i64</td><td>i64</td><td>date</td><td>str</td><td>str</td><td>str</td><td>str</td><td>str</td><td>str</td><td>i64</td><td>i64</td><td>str</td><td>i64</td><td>i64</td><td>str</td><td>i64</td><td>i64</td><td>i64</td><td>i64</td><td>str</td><td>i64</td><td>f64</td><td>f64</td><td>f64</td></tr></thead><tbody><tr><td>328</td><td>48</td><td>521585</td><td>2014-10-17</td><td>&quot;OH&quot;</td><td>1000</td><td>1406.91</td><td>0</td><td>466132</td><td>&quot;MD&quot;</td><td>&quot;craft-repair&quot;</td><td>&quot;sleeping&quot;</td><td>53300</td><td>0</td><td>2015-01-25</td><td>&quot;Single Vehicle Collision&quot;</td><td>&quot;Side Collision&quot;</td><td>&quot;Major Damage&quot;</td><td>&quot;Police&quot;</td><td>&quot;SC&quot;</td><td>&quot;Columbus&quot;</td><td>5</td><td>1</td><td>&quot;YES&quot;</td><td>1</td><td>2</td><td>&quot;YES&quot;</td><td>71610</td><td>6510</td><td>13020</td><td>52080</td><td>&quot;Saab&quot;</td><td>2004</td><td>250.0</td><td>500.0</td><td>2.3655e7</td></tr><tr><td>228</td><td>42</td><td>342868</td><td>2006-06-27</td><td>&quot;IN&quot;</td><td>2000</td><td>1197.22</td><td>5000000</td><td>468176</td><td>&quot;MD&quot;</td><td>&quot;machine-op-inspct&quot;</td><td>&quot;reading&quot;</td><td>0</td><td>0</td><td>2015-01-21</td><td>&quot;Vehicle Theft&quot;</td><td>&quot;?&quot;</td><td>&quot;Minor Damage&quot;</td><td>&quot;Police&quot;</td><td>&quot;VA&quot;</td><td>&quot;Riverwood&quot;</td><td>8</td><td>1</td><td>&quot;?&quot;</td><td>0</td><td>0</td><td>&quot;?&quot;</td><td>5070</td><td>780</td><td>780</td><td>3510</td><td>&quot;Mercedes&quot;</td><td>2007</td><td>250.0</td><td>500.0</td><td>7.4040e8</td></tr></tbody></table></div>"
      ],
      "text/plain": [
       "shape: (2, 36)\n",
       "┌────────────┬─────┬────────────┬────────────┬───┬───────────┬────────────┬────────────┬───────────┐\n",
       "│ months_as_ ┆ age ┆ policy_num ┆ policy_bin ┆ … ┆ auto_year ┆ per_person ┆ per_accide ┆ nb_years_ │\n",
       "│ customer   ┆ --- ┆ ber        ┆ d_date     ┆   ┆ ---       ┆ _limit     ┆ nt_limit   ┆ between_i │\n",
       "│ ---        ┆ i64 ┆ ---        ┆ ---        ┆   ┆ i64       ┆ ---        ┆ ---        ┆ ncident_a │\n",
       "│ i64        ┆     ┆ i64        ┆ date       ┆   ┆           ┆ f64        ┆ f64        ┆ nd_…      │\n",
       "│            ┆     ┆            ┆            ┆   ┆           ┆            ┆            ┆ ---       │\n",
       "│            ┆     ┆            ┆            ┆   ┆           ┆            ┆            ┆ f64       │\n",
       "╞════════════╪═════╪════════════╪════════════╪═══╪═══════════╪════════════╪════════════╪═══════════╡\n",
       "│ 328        ┆ 48  ┆ 521585     ┆ 2014-10-17 ┆ … ┆ 2004      ┆ 250.0      ┆ 500.0      ┆ 2.3655e7  │\n",
       "│ 228        ┆ 42  ┆ 342868     ┆ 2006-06-27 ┆ … ┆ 2007      ┆ 250.0      ┆ 500.0      ┆ 7.4040e8  │\n",
       "└────────────┴─────┴────────────┴────────────┴───┴───────────┴────────────┴────────────┴───────────┘"
      ]
     },
     "execution_count": 5,
     "metadata": {},
     "output_type": "execute_result"
    }
   ],
   "source": [
    "instances.head(2)"
   ]
  },
  {
   "cell_type": "code",
   "execution_count": 6,
   "id": "ee81094d",
   "metadata": {},
   "outputs": [
    {
     "data": {
      "text/html": [
       "<div><style>\n",
       ".dataframe > thead > tr,\n",
       ".dataframe > tbody > tr {\n",
       "  text-align: right;\n",
       "  white-space: pre-wrap;\n",
       "}\n",
       "</style>\n",
       "<small>shape: (2, 2)</small><table border=\"1\" class=\"dataframe\"><thead><tr><th>policy_number</th><th>fraud_reported</th></tr><tr><td>i64</td><td>str</td></tr></thead><tbody><tr><td>521585</td><td>&quot;Y&quot;</td></tr><tr><td>342868</td><td>&quot;Y&quot;</td></tr></tbody></table></div>"
      ],
      "text/plain": [
       "shape: (2, 2)\n",
       "┌───────────────┬────────────────┐\n",
       "│ policy_number ┆ fraud_reported │\n",
       "│ ---           ┆ ---            │\n",
       "│ i64           ┆ str            │\n",
       "╞═══════════════╪════════════════╡\n",
       "│ 521585        ┆ Y              │\n",
       "│ 342868        ┆ Y              │\n",
       "└───────────────┴────────────────┘"
      ]
     },
     "execution_count": 6,
     "metadata": {},
     "output_type": "execute_result"
    }
   ],
   "source": [
    "labels.head(2)"
   ]
  },
  {
   "cell_type": "code",
   "execution_count": null,
   "id": "1a8b02b4",
   "metadata": {},
   "outputs": [],
   "source": []
  }
 ],
 "metadata": {
  "kernelspec": {
   "display_name": "technical_test",
   "language": "python",
   "name": "python3"
  },
  "language_info": {
   "codemirror_mode": {
    "name": "ipython",
    "version": 3
   },
   "file_extension": ".py",
   "mimetype": "text/x-python",
   "name": "python",
   "nbconvert_exporter": "python",
   "pygments_lexer": "ipython3",
   "version": "3.11.13"
  }
 },
 "nbformat": 4,
 "nbformat_minor": 5
}
