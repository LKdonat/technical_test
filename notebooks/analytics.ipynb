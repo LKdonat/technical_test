{
 "cells": [
  {
   "cell_type": "markdown",
   "id": "30f44365",
   "metadata": {},
   "source": [
    "# **Analytics**\n",
    "\n",
    "- In this notebook we will generate the table that will serve as a base for the PowerBI App\n",
    "- for this particular use case we will only need to execute it once, then the PBI app will have the data embedded within it\n",
    "- in a real world scenario : \n",
    "    - There will be an analytics pipeline that runs periodically to take new data into account\n",
    "    - The PBI app will then refresh with the new data\n",
    "- Here the goal is to generate a \"raw table\" with enough informations to facilitate the creation of our dashboard"
   ]
  },
  {
   "cell_type": "code",
   "execution_count": 7,
   "id": "29640f3d",
   "metadata": {},
   "outputs": [],
   "source": [
    "import sys\n",
    "from pathlib import Path\n",
    "import logging \n",
    "\n",
    "LOGGER = logging.getLogger(__name__)\n",
    "sys.path.append(str(Path(\"../src\").resolve()))\n",
    "\n",
    "logging.basicConfig(format='%(asctime)s : %(levelname)s : %(message)s', level=logging.INFO)"
   ]
  },
  {
   "cell_type": "code",
   "execution_count": 8,
   "id": "c6dba73f",
   "metadata": {},
   "outputs": [],
   "source": [
    "import polars as pl \n",
    "import pandas as pd \n",
    "\n",
    "instances = pl.read_parquet((Path().cwd().parent / \"data/02_intermediate/instances.parquet\").as_posix()).to_pandas()\n",
    "labels = pl.read_parquet((Path().cwd().parent / \"data/02_intermediate/labels.parquet\").as_posix()).to_pandas()\n",
    "merged_instances_labels = pd.merge(\n",
    "    left = instances,\n",
    "    right=labels,\n",
    "    on = \"policy_number\",\n",
    "    how = \"inner\"\n",
    ")\n",
    "merged_instances_labels.sample(n=3)\n",
    "\n",
    "target_directory = (Path().cwd().parent / \"data/05_reporting/\")\n",
    "target_directory.mkdir(parents=True, exist_ok=True)\n",
    "merged_instances_labels.to_parquet((target_directory / \"data_for_pbi_app.parquet\").as_posix())"
   ]
  },
  {
   "cell_type": "code",
   "execution_count": null,
   "id": "88cf0d96",
   "metadata": {},
   "outputs": [],
   "source": []
  }
 ],
 "metadata": {
  "kernelspec": {
   "display_name": "technical_test",
   "language": "python",
   "name": "python3"
  },
  "language_info": {
   "codemirror_mode": {
    "name": "ipython",
    "version": 3
   },
   "file_extension": ".py",
   "mimetype": "text/x-python",
   "name": "python",
   "nbconvert_exporter": "python",
   "pygments_lexer": "ipython3",
   "version": "3.11.13"
  }
 },
 "nbformat": 4,
 "nbformat_minor": 5
}
